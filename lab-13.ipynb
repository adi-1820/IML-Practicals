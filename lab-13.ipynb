{
 "cells": [
  {
   "cell_type": "code",
   "execution_count": 1,
   "id": "5070933b",
   "metadata": {
    "_cell_guid": "b1076dfc-b9ad-4769-8c92-a6c4dae69d19",
    "_uuid": "8f2839f25d086af736a60e9eeb907d3b93b6e0e5",
    "execution": {
     "iopub.execute_input": "2023-11-06T05:21:46.585453Z",
     "iopub.status.busy": "2023-11-06T05:21:46.584402Z",
     "iopub.status.idle": "2023-11-06T05:21:47.925329Z",
     "shell.execute_reply": "2023-11-06T05:21:47.924488Z"
    },
    "papermill": {
     "duration": 1.347531,
     "end_time": "2023-11-06T05:21:47.927628",
     "exception": false,
     "start_time": "2023-11-06T05:21:46.580097",
     "status": "completed"
    },
    "tags": []
   },
   "outputs": [],
   "source": [
    "# 216270307032 - Aditya Vara\n",
    "# Importing needed libreries \n",
    "import numpy as np # To perform mathematical equations\n",
    "from collections import Counter # To count the occurrences of elements in a collection\n",
    "from sklearn.datasets import load_iris # Load the Iris dataset\n",
    "from sklearn.model_selection import train_test_split # To split data into train and test data\n",
    "from sklearn.metrics import accuracy_score # To calculate accuracy"
   ]
  },
  {
   "cell_type": "code",
   "execution_count": 2,
   "id": "7eeb0007",
   "metadata": {
    "execution": {
     "iopub.execute_input": "2023-11-06T05:21:47.936210Z",
     "iopub.status.busy": "2023-11-06T05:21:47.935168Z",
     "iopub.status.idle": "2023-11-06T05:21:47.943703Z",
     "shell.execute_reply": "2023-11-06T05:21:47.942762Z"
    },
    "papermill": {
     "duration": 0.015791,
     "end_time": "2023-11-06T05:21:47.945914",
     "exception": false,
     "start_time": "2023-11-06T05:21:47.930123",
     "status": "completed"
    },
    "tags": []
   },
   "outputs": [],
   "source": [
    "# Define the Euclidean distance function\n",
    "def euclidean_distance(x1, x2):\n",
    "    return np.sqrt(np.sum((x1 - x2) ** 2))\n",
    "\n",
    "# Define the k-NN model\n",
    "class KNN:\n",
    "    def __init__(self, k = 5):\n",
    "        self.k = k\n",
    "\n",
    "    def fit(self, X, y):\n",
    "        self.X_train = X\n",
    "        self.y_train = y\n",
    "\n",
    "    def predict(self, X):\n",
    "        predictions = [self._predict(x) for x in X]\n",
    "        return np.array(predictions)\n",
    "\n",
    "    def _predict(self, x):\n",
    "        # Calculate distances between x and all examples in the training set\n",
    "        distances = [euclidean_distance(x, x_train) for x_train in self.X_train]\n",
    "        \n",
    "        # Sort by distance and return indices of the first k neighbors\n",
    "        k_indices = np.argsort(distances)[:self.k]\n",
    "        \n",
    "        # Extract the labels of the k nearest neighbor training samples\n",
    "        k_nearest_labels = [self.y_train[i] for i in k_indices]\n",
    "        \n",
    "        # Return the most common class label among the k nearest neighbors\n",
    "        most_common = Counter(k_nearest_labels).most_common(1)\n",
    "        return most_common[0][0]"
   ]
  },
  {
   "cell_type": "code",
   "execution_count": 3,
   "id": "249ea77e",
   "metadata": {
    "execution": {
     "iopub.execute_input": "2023-11-06T05:21:47.952076Z",
     "iopub.status.busy": "2023-11-06T05:21:47.951666Z",
     "iopub.status.idle": "2023-11-06T05:21:47.964448Z",
     "shell.execute_reply": "2023-11-06T05:21:47.963515Z"
    },
    "papermill": {
     "duration": 0.018329,
     "end_time": "2023-11-06T05:21:47.966634",
     "exception": false,
     "start_time": "2023-11-06T05:21:47.948305",
     "status": "completed"
    },
    "tags": []
   },
   "outputs": [],
   "source": [
    "# Define features and target value and split data into train and test data\n",
    "iris = load_iris()\n",
    "X = iris.data  # Features\n",
    "y = iris.target  # Target variable (species)\n",
    "\n",
    "# Split the dataset into training and testing sets\n",
    "X_train, X_test, y_train, y_test = train_test_split(X, y, test_size=0.2, random_state=42)"
   ]
  },
  {
   "cell_type": "code",
   "execution_count": 4,
   "id": "d67a92a3",
   "metadata": {
    "execution": {
     "iopub.execute_input": "2023-11-06T05:21:47.972679Z",
     "iopub.status.busy": "2023-11-06T05:21:47.972154Z",
     "iopub.status.idle": "2023-11-06T05:21:48.005114Z",
     "shell.execute_reply": "2023-11-06T05:21:48.004085Z"
    },
    "papermill": {
     "duration": 0.038664,
     "end_time": "2023-11-06T05:21:48.007580",
     "exception": false,
     "start_time": "2023-11-06T05:21:47.968916",
     "status": "completed"
    },
    "tags": []
   },
   "outputs": [],
   "source": [
    "# Create and fit the k-NN classifier\n",
    "k = 5\n",
    "clf = KNN(k=k)\n",
    "clf.fit(X_train, y_train)\n",
    "\n",
    "# Predict the labels for the test set\n",
    "predictions = clf.predict(X_test)"
   ]
  },
  {
   "cell_type": "code",
   "execution_count": 5,
   "id": "9c85476a",
   "metadata": {
    "execution": {
     "iopub.execute_input": "2023-11-06T05:21:48.013471Z",
     "iopub.status.busy": "2023-11-06T05:21:48.013077Z",
     "iopub.status.idle": "2023-11-06T05:21:48.021830Z",
     "shell.execute_reply": "2023-11-06T05:21:48.020537Z"
    },
    "papermill": {
     "duration": 0.014336,
     "end_time": "2023-11-06T05:21:48.024287",
     "exception": false,
     "start_time": "2023-11-06T05:21:48.009951",
     "status": "completed"
    },
    "tags": []
   },
   "outputs": [
    {
     "name": "stdout",
     "output_type": "stream",
     "text": [
      "Accuracy of the k-NN model with k = 5 : 100.00 %\n"
     ]
    }
   ],
   "source": [
    "accuracy = accuracy_score(y_test, predictions)\n",
    "accuracy_percentage = accuracy * 100\n",
    "print(f\"Accuracy of the k-NN model with k = {k} : {accuracy_percentage:.2f} %\")"
   ]
  }
 ],
 "metadata": {
  "kernelspec": {
   "display_name": "Python 3",
   "language": "python",
   "name": "python3"
  },
  "language_info": {
   "codemirror_mode": {
    "name": "ipython",
    "version": 3
   },
   "file_extension": ".py",
   "mimetype": "text/x-python",
   "name": "python",
   "nbconvert_exporter": "python",
   "pygments_lexer": "ipython3",
   "version": "3.10.12"
  },
  "papermill": {
   "default_parameters": {},
   "duration": 5.045447,
   "end_time": "2023-11-06T05:21:48.445810",
   "environment_variables": {},
   "exception": null,
   "input_path": "__notebook__.ipynb",
   "output_path": "__notebook__.ipynb",
   "parameters": {},
   "start_time": "2023-11-06T05:21:43.400363",
   "version": "2.4.0"
  }
 },
 "nbformat": 4,
 "nbformat_minor": 5
}
