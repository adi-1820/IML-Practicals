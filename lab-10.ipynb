{
 "cells": [
  {
   "cell_type": "markdown",
   "id": "9fe5bd4f",
   "metadata": {
    "papermill": {
     "duration": 0.003241,
     "end_time": "2023-10-23T05:12:09.007451",
     "exception": false,
     "start_time": "2023-10-23T05:12:09.004210",
     "status": "completed"
    },
    "tags": []
   },
   "source": [
    "\n",
    "# 10. Write a Pandas program to implement following operation"
   ]
  },
  {
   "cell_type": "markdown",
   "id": "709ffe97",
   "metadata": {
    "papermill": {
     "duration": 0.002323,
     "end_time": "2023-10-23T05:12:09.012615",
     "exception": false,
     "start_time": "2023-10-23T05:12:09.010292",
     "status": "completed"
    },
    "tags": []
   },
   "source": [
    "# i. to find and drop the missing values from the given dataset"
   ]
  },
  {
   "cell_type": "code",
   "execution_count": 1,
   "id": "e8650732",
   "metadata": {
    "execution": {
     "iopub.execute_input": "2023-10-23T05:12:09.021662Z",
     "iopub.status.busy": "2023-10-23T05:12:09.021259Z",
     "iopub.status.idle": "2023-10-23T05:12:09.460260Z",
     "shell.execute_reply": "2023-10-23T05:12:09.459114Z"
    },
    "papermill": {
     "duration": 0.446476,
     "end_time": "2023-10-23T05:12:09.463708",
     "exception": false,
     "start_time": "2023-10-23T05:12:09.017232",
     "status": "completed"
    },
    "tags": []
   },
   "outputs": [
    {
     "name": "stdout",
     "output_type": "stream",
     "text": [
      "Before Removing Missing Values \n",
      "        name            toy       born\n",
      "0   Superman            NaN        NaT\n",
      "1     Batman      Batmobile 1956-06-26\n",
      "2  Spiderman  Spiderman toy        NaT\n",
      "\n",
      "After Removing Missing Values \n",
      "     name        toy       born\n",
      "1  Batman  Batmobile 1956-06-26\n"
     ]
    }
   ],
   "source": [
    "# 216270307032 - Aditya Vara\n",
    "import pandas as pd\n",
    "import numpy as np\n",
    "\n",
    "# Dictionary\n",
    "dict = {\"name\": ['Superman', 'Batman', 'Spiderman'],\n",
    "                   \"toy\": [np.nan, 'Batmobile', 'Spiderman toy'],\n",
    "                   \"born\": [pd.NaT, pd.Timestamp(\"1956-06-26\"),\n",
    "                            pd.NaT] }\n",
    "\n",
    "# Converting into DataFrame\n",
    "df = pd.DataFrame(dict)\n",
    "\n",
    "# Before Remove Missing values\n",
    "print(\"Before Removing Missing Values \")\n",
    "print(df)\n",
    "\n",
    "# After Removing Missing Values\n",
    "print(\"\\nAfter Removing Missing Values \")\n",
    "print(df.dropna())"
   ]
  },
  {
   "cell_type": "markdown",
   "id": "60658f38",
   "metadata": {
    "papermill": {
     "duration": 0.002554,
     "end_time": "2023-10-23T05:12:09.469308",
     "exception": false,
     "start_time": "2023-10-23T05:12:09.466754",
     "status": "completed"
    },
    "tags": []
   },
   "source": [
    "# ii. to remove the duplicates from the given dataset"
   ]
  },
  {
   "cell_type": "code",
   "execution_count": 2,
   "id": "a17dd5d4",
   "metadata": {
    "execution": {
     "iopub.execute_input": "2023-10-23T05:12:09.476598Z",
     "iopub.status.busy": "2023-10-23T05:12:09.476023Z",
     "iopub.status.idle": "2023-10-23T05:12:09.497112Z",
     "shell.execute_reply": "2023-10-23T05:12:09.495799Z"
    },
    "papermill": {
     "duration": 0.027444,
     "end_time": "2023-10-23T05:12:09.499397",
     "exception": false,
     "start_time": "2023-10-23T05:12:09.471953",
     "status": "completed"
    },
    "tags": []
   },
   "outputs": [
    {
     "name": "stdout",
     "output_type": "stream",
     "text": [
      "Before Removing Duplicate Values \n",
      "      Name    ID\n",
      "0     Jhon  12.0\n",
      "1     Jhon  12.0\n",
      "2      NaN  30.0\n",
      "3  Micheal  40.0\n",
      "4  Micheal   NaN\n",
      "\n",
      "After Removing Duplicate Values \n",
      "      Name    ID\n",
      "0     Jhon  12.0\n",
      "2      NaN  30.0\n",
      "3  Micheal  40.0\n",
      "4  Micheal   NaN\n"
     ]
    }
   ],
   "source": [
    "# 216270307032 - Aditya Vara\n",
    "import pandas as pd\n",
    "import numpy as np\n",
    "\n",
    "# Dictionary\n",
    "dict = { 'Name' : ['Jhon','Jhon',np.nan,'Micheal','Micheal'],\n",
    "         'ID' : [12,12,30,40,np.nan] }\n",
    "\n",
    "# Converting into DataFrame\n",
    "df = pd.DataFrame(dict)\n",
    "\n",
    "# Before Remove Missing values\n",
    "print(\"Before Removing Duplicate Values \")\n",
    "print(df)\n",
    "\n",
    "# After Removing Missing Values\n",
    "print(\"\\nAfter Removing Duplicate Values \")\n",
    "print(df.drop_duplicates())"
   ]
  },
  {
   "cell_type": "code",
   "execution_count": null,
   "id": "2df4b704",
   "metadata": {
    "papermill": {
     "duration": 0.002653,
     "end_time": "2023-10-23T05:12:09.504944",
     "exception": false,
     "start_time": "2023-10-23T05:12:09.502291",
     "status": "completed"
    },
    "tags": []
   },
   "outputs": [],
   "source": []
  }
 ],
 "metadata": {
  "kernelspec": {
   "display_name": "Python 3",
   "language": "python",
   "name": "python3"
  },
  "language_info": {
   "codemirror_mode": {
    "name": "ipython",
    "version": 3
   },
   "file_extension": ".py",
   "mimetype": "text/x-python",
   "name": "python",
   "nbconvert_exporter": "python",
   "pygments_lexer": "ipython3",
   "version": "3.10.12"
  },
  "papermill": {
   "default_parameters": {},
   "duration": 4.594837,
   "end_time": "2023-10-23T05:12:09.926950",
   "environment_variables": {},
   "exception": null,
   "input_path": "__notebook__.ipynb",
   "output_path": "__notebook__.ipynb",
   "parameters": {},
   "start_time": "2023-10-23T05:12:05.332113",
   "version": "2.4.0"
  }
 },
 "nbformat": 4,
 "nbformat_minor": 5
}
