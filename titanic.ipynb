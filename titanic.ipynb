{
 "cells": [
  {
   "cell_type": "code",
   "execution_count": 1,
   "id": "ca6121cf",
   "metadata": {
    "_cell_guid": "b1076dfc-b9ad-4769-8c92-a6c4dae69d19",
    "_uuid": "8f2839f25d086af736a60e9eeb907d3b93b6e0e5",
    "execution": {
     "iopub.execute_input": "2023-11-06T05:18:49.155157Z",
     "iopub.status.busy": "2023-11-06T05:18:49.154691Z",
     "iopub.status.idle": "2023-11-06T05:18:51.686562Z",
     "shell.execute_reply": "2023-11-06T05:18:51.684834Z"
    },
    "papermill": {
     "duration": 2.544308,
     "end_time": "2023-11-06T05:18:51.690371",
     "exception": false,
     "start_time": "2023-11-06T05:18:49.146063",
     "status": "completed"
    },
    "tags": []
   },
   "outputs": [],
   "source": [
    "# Logistic regression model for Titanic servival prediction\n",
    "\n",
    "# Code by : Chhayank Thanki (216270307017)\n",
    "#           Vara Aditya (216270307032)\n",
    "\n",
    "# Importing needed libraries\n",
    "import numpy as np # linear algebra\n",
    "import pandas as pd # data processing, CSV file I/O (e.g. pd.read_csv)\n",
    "import seaborn as sns # For Data Visualization\n",
    "from sklearn.model_selection import train_test_split # Split dataset into train \n",
    "                                                     # and test data\n",
    "from sklearn.metrics import accuracy_score # Find the accuracy of trained model\n",
    "from sklearn.preprocessing import StandardScaler # Removes the mean and scales \n",
    "                                                 # each feature/variable to unit \n",
    "                                                 # variance."
   ]
  },
  {
   "cell_type": "code",
   "execution_count": 2,
   "id": "e5e01ace",
   "metadata": {
    "execution": {
     "iopub.execute_input": "2023-11-06T05:18:51.709603Z",
     "iopub.status.busy": "2023-11-06T05:18:51.707603Z",
     "iopub.status.idle": "2023-11-06T05:18:51.722673Z",
     "shell.execute_reply": "2023-11-06T05:18:51.721380Z"
    },
    "papermill": {
     "duration": 0.027013,
     "end_time": "2023-11-06T05:18:51.726333",
     "exception": false,
     "start_time": "2023-11-06T05:18:51.699320",
     "status": "completed"
    },
    "tags": []
   },
   "outputs": [],
   "source": [
    "# Implementation of Logistic Regression\n",
    "class LogisiticRegression:\n",
    "    \n",
    "    # Function to initialize learning rate, epochs, weights and bias\n",
    "    def __init__(self, learning_rate = 0.02, epochs = 100):\n",
    "        self.lr = learning_rate\n",
    "        self.epochs = epochs\n",
    "        self.weights = None\n",
    "        self.bias = None\n",
    "        \n",
    "    # Fit function to train model using logistic regression \n",
    "    def fit(self, X, Y):\n",
    "        self.no_ex,self.no_features = X.shape\n",
    "        self.weights = np.zeros(self.no_features)\n",
    "        self.bias = 0\n",
    "        self.X = X\n",
    "        self.Y = Y\n",
    "        \n",
    "        for i in range(self.epochs):\n",
    "            self.update_weights()\n",
    "            \n",
    "    # To update the weights\n",
    "    def update_weights(self):\n",
    "        Y_hat = 1 / (1 + np.exp(-(self.X.dot(self.weights) + self.bias)))\n",
    "        dw = (1 / self.no_ex) * np.dot(self.X.T,(Y_hat - self.Y))\n",
    "        db = (1 / self.no_ex) * np.sum(Y_hat - self.Y)\n",
    "        \n",
    "        self.weights -= self.lr * dw\n",
    "        self.bias -= self.lr * db\n",
    "    \n",
    "    # Predict function to predict values from trained model\n",
    "    def predict(self, X):\n",
    "        Y_pred = 1 /(1 + np.exp(-(X.dot(self.weights) + self.bias)))\n",
    "        Y_pred = np.where( Y_pred > 0.5,1,0)\n",
    "        return Y_pred\n"
   ]
  },
  {
   "cell_type": "code",
   "execution_count": 3,
   "id": "a8a6fd3b",
   "metadata": {
    "execution": {
     "iopub.execute_input": "2023-11-06T05:18:51.740940Z",
     "iopub.status.busy": "2023-11-06T05:18:51.740133Z",
     "iopub.status.idle": "2023-11-06T05:18:51.841985Z",
     "shell.execute_reply": "2023-11-06T05:18:51.840441Z"
    },
    "papermill": {
     "duration": 0.113224,
     "end_time": "2023-11-06T05:18:51.845514",
     "exception": false,
     "start_time": "2023-11-06T05:18:51.732290",
     "status": "completed"
    },
    "tags": []
   },
   "outputs": [
    {
     "data": {
      "text/html": [
       "<div>\n",
       "<style scoped>\n",
       "    .dataframe tbody tr th:only-of-type {\n",
       "        vertical-align: middle;\n",
       "    }\n",
       "\n",
       "    .dataframe tbody tr th {\n",
       "        vertical-align: top;\n",
       "    }\n",
       "\n",
       "    .dataframe thead th {\n",
       "        text-align: right;\n",
       "    }\n",
       "</style>\n",
       "<table border=\"1\" class=\"dataframe\">\n",
       "  <thead>\n",
       "    <tr style=\"text-align: right;\">\n",
       "      <th></th>\n",
       "      <th>PassengerId</th>\n",
       "      <th>Survived</th>\n",
       "      <th>Pclass</th>\n",
       "      <th>Name</th>\n",
       "      <th>Sex</th>\n",
       "      <th>Age</th>\n",
       "      <th>SibSp</th>\n",
       "      <th>Parch</th>\n",
       "      <th>Ticket</th>\n",
       "      <th>Fare</th>\n",
       "      <th>Cabin</th>\n",
       "      <th>Embarked</th>\n",
       "    </tr>\n",
       "  </thead>\n",
       "  <tbody>\n",
       "    <tr>\n",
       "      <th>count</th>\n",
       "      <td>891.000000</td>\n",
       "      <td>891.000000</td>\n",
       "      <td>891.000000</td>\n",
       "      <td>891</td>\n",
       "      <td>891</td>\n",
       "      <td>714.000000</td>\n",
       "      <td>891.000000</td>\n",
       "      <td>891.000000</td>\n",
       "      <td>891</td>\n",
       "      <td>891.000000</td>\n",
       "      <td>204</td>\n",
       "      <td>889</td>\n",
       "    </tr>\n",
       "    <tr>\n",
       "      <th>unique</th>\n",
       "      <td>NaN</td>\n",
       "      <td>NaN</td>\n",
       "      <td>NaN</td>\n",
       "      <td>891</td>\n",
       "      <td>2</td>\n",
       "      <td>NaN</td>\n",
       "      <td>NaN</td>\n",
       "      <td>NaN</td>\n",
       "      <td>681</td>\n",
       "      <td>NaN</td>\n",
       "      <td>147</td>\n",
       "      <td>3</td>\n",
       "    </tr>\n",
       "    <tr>\n",
       "      <th>top</th>\n",
       "      <td>NaN</td>\n",
       "      <td>NaN</td>\n",
       "      <td>NaN</td>\n",
       "      <td>Braund, Mr. Owen Harris</td>\n",
       "      <td>male</td>\n",
       "      <td>NaN</td>\n",
       "      <td>NaN</td>\n",
       "      <td>NaN</td>\n",
       "      <td>347082</td>\n",
       "      <td>NaN</td>\n",
       "      <td>B96 B98</td>\n",
       "      <td>S</td>\n",
       "    </tr>\n",
       "    <tr>\n",
       "      <th>freq</th>\n",
       "      <td>NaN</td>\n",
       "      <td>NaN</td>\n",
       "      <td>NaN</td>\n",
       "      <td>1</td>\n",
       "      <td>577</td>\n",
       "      <td>NaN</td>\n",
       "      <td>NaN</td>\n",
       "      <td>NaN</td>\n",
       "      <td>7</td>\n",
       "      <td>NaN</td>\n",
       "      <td>4</td>\n",
       "      <td>644</td>\n",
       "    </tr>\n",
       "    <tr>\n",
       "      <th>mean</th>\n",
       "      <td>446.000000</td>\n",
       "      <td>0.383838</td>\n",
       "      <td>2.308642</td>\n",
       "      <td>NaN</td>\n",
       "      <td>NaN</td>\n",
       "      <td>29.699118</td>\n",
       "      <td>0.523008</td>\n",
       "      <td>0.381594</td>\n",
       "      <td>NaN</td>\n",
       "      <td>32.204208</td>\n",
       "      <td>NaN</td>\n",
       "      <td>NaN</td>\n",
       "    </tr>\n",
       "    <tr>\n",
       "      <th>std</th>\n",
       "      <td>257.353842</td>\n",
       "      <td>0.486592</td>\n",
       "      <td>0.836071</td>\n",
       "      <td>NaN</td>\n",
       "      <td>NaN</td>\n",
       "      <td>14.526497</td>\n",
       "      <td>1.102743</td>\n",
       "      <td>0.806057</td>\n",
       "      <td>NaN</td>\n",
       "      <td>49.693429</td>\n",
       "      <td>NaN</td>\n",
       "      <td>NaN</td>\n",
       "    </tr>\n",
       "    <tr>\n",
       "      <th>min</th>\n",
       "      <td>1.000000</td>\n",
       "      <td>0.000000</td>\n",
       "      <td>1.000000</td>\n",
       "      <td>NaN</td>\n",
       "      <td>NaN</td>\n",
       "      <td>0.420000</td>\n",
       "      <td>0.000000</td>\n",
       "      <td>0.000000</td>\n",
       "      <td>NaN</td>\n",
       "      <td>0.000000</td>\n",
       "      <td>NaN</td>\n",
       "      <td>NaN</td>\n",
       "    </tr>\n",
       "    <tr>\n",
       "      <th>25%</th>\n",
       "      <td>223.500000</td>\n",
       "      <td>0.000000</td>\n",
       "      <td>2.000000</td>\n",
       "      <td>NaN</td>\n",
       "      <td>NaN</td>\n",
       "      <td>20.125000</td>\n",
       "      <td>0.000000</td>\n",
       "      <td>0.000000</td>\n",
       "      <td>NaN</td>\n",
       "      <td>7.910400</td>\n",
       "      <td>NaN</td>\n",
       "      <td>NaN</td>\n",
       "    </tr>\n",
       "    <tr>\n",
       "      <th>50%</th>\n",
       "      <td>446.000000</td>\n",
       "      <td>0.000000</td>\n",
       "      <td>3.000000</td>\n",
       "      <td>NaN</td>\n",
       "      <td>NaN</td>\n",
       "      <td>28.000000</td>\n",
       "      <td>0.000000</td>\n",
       "      <td>0.000000</td>\n",
       "      <td>NaN</td>\n",
       "      <td>14.454200</td>\n",
       "      <td>NaN</td>\n",
       "      <td>NaN</td>\n",
       "    </tr>\n",
       "    <tr>\n",
       "      <th>75%</th>\n",
       "      <td>668.500000</td>\n",
       "      <td>1.000000</td>\n",
       "      <td>3.000000</td>\n",
       "      <td>NaN</td>\n",
       "      <td>NaN</td>\n",
       "      <td>38.000000</td>\n",
       "      <td>1.000000</td>\n",
       "      <td>0.000000</td>\n",
       "      <td>NaN</td>\n",
       "      <td>31.000000</td>\n",
       "      <td>NaN</td>\n",
       "      <td>NaN</td>\n",
       "    </tr>\n",
       "    <tr>\n",
       "      <th>max</th>\n",
       "      <td>891.000000</td>\n",
       "      <td>1.000000</td>\n",
       "      <td>3.000000</td>\n",
       "      <td>NaN</td>\n",
       "      <td>NaN</td>\n",
       "      <td>80.000000</td>\n",
       "      <td>8.000000</td>\n",
       "      <td>6.000000</td>\n",
       "      <td>NaN</td>\n",
       "      <td>512.329200</td>\n",
       "      <td>NaN</td>\n",
       "      <td>NaN</td>\n",
       "    </tr>\n",
       "  </tbody>\n",
       "</table>\n",
       "</div>"
      ],
      "text/plain": [
       "        PassengerId    Survived      Pclass                     Name   Sex  \\\n",
       "count    891.000000  891.000000  891.000000                      891   891   \n",
       "unique          NaN         NaN         NaN                      891     2   \n",
       "top             NaN         NaN         NaN  Braund, Mr. Owen Harris  male   \n",
       "freq            NaN         NaN         NaN                        1   577   \n",
       "mean     446.000000    0.383838    2.308642                      NaN   NaN   \n",
       "std      257.353842    0.486592    0.836071                      NaN   NaN   \n",
       "min        1.000000    0.000000    1.000000                      NaN   NaN   \n",
       "25%      223.500000    0.000000    2.000000                      NaN   NaN   \n",
       "50%      446.000000    0.000000    3.000000                      NaN   NaN   \n",
       "75%      668.500000    1.000000    3.000000                      NaN   NaN   \n",
       "max      891.000000    1.000000    3.000000                      NaN   NaN   \n",
       "\n",
       "               Age       SibSp       Parch  Ticket        Fare    Cabin  \\\n",
       "count   714.000000  891.000000  891.000000     891  891.000000      204   \n",
       "unique         NaN         NaN         NaN     681         NaN      147   \n",
       "top            NaN         NaN         NaN  347082         NaN  B96 B98   \n",
       "freq           NaN         NaN         NaN       7         NaN        4   \n",
       "mean     29.699118    0.523008    0.381594     NaN   32.204208      NaN   \n",
       "std      14.526497    1.102743    0.806057     NaN   49.693429      NaN   \n",
       "min       0.420000    0.000000    0.000000     NaN    0.000000      NaN   \n",
       "25%      20.125000    0.000000    0.000000     NaN    7.910400      NaN   \n",
       "50%      28.000000    0.000000    0.000000     NaN   14.454200      NaN   \n",
       "75%      38.000000    1.000000    0.000000     NaN   31.000000      NaN   \n",
       "max      80.000000    8.000000    6.000000     NaN  512.329200      NaN   \n",
       "\n",
       "       Embarked  \n",
       "count       889  \n",
       "unique        3  \n",
       "top           S  \n",
       "freq        644  \n",
       "mean        NaN  \n",
       "std         NaN  \n",
       "min         NaN  \n",
       "25%         NaN  \n",
       "50%         NaN  \n",
       "75%         NaN  \n",
       "max         NaN  "
      ]
     },
     "execution_count": 3,
     "metadata": {},
     "output_type": "execute_result"
    }
   ],
   "source": [
    "# Reading dataset csv file\n",
    "data_set = pd.read_csv(\"../input/titanic-dataset/Titanic-Dataset.csv\")\n",
    "\n",
    "# Take a look at the training and testing data\n",
    "data_set.describe(include=\"all\")"
   ]
  },
  {
   "cell_type": "code",
   "execution_count": 4,
   "id": "ed3aa8a9",
   "metadata": {
    "execution": {
     "iopub.execute_input": "2023-11-06T05:18:51.861114Z",
     "iopub.status.busy": "2023-11-06T05:18:51.860650Z",
     "iopub.status.idle": "2023-11-06T05:18:52.243498Z",
     "shell.execute_reply": "2023-11-06T05:18:52.242144Z"
    },
    "papermill": {
     "duration": 0.394553,
     "end_time": "2023-11-06T05:18:52.246836",
     "exception": false,
     "start_time": "2023-11-06T05:18:51.852283",
     "status": "completed"
    },
    "tags": []
   },
   "outputs": [
    {
     "data": {
      "text/plain": [
       "<Axes: xlabel='Sex', ylabel='Survived'>"
      ]
     },
     "execution_count": 4,
     "metadata": {},
     "output_type": "execute_result"
    },
    {
     "data": {
      "image/png": "[encoded data removed]",
      "text/plain": [
       "<Figure size 640x480 with 1 Axes>"
      ]
     },
     "metadata": {},
     "output_type": "display_data"
    }
   ],
   "source": [
    "# Data Visualization\n",
    "\n",
    "# Sex feature \n",
    "# Draw a bar plot of survival by sex\n",
    "sns.barplot(x=\"Sex\", y=\"Survived\", data = data_set)"
   ]
  },
  {
   "cell_type": "code",
   "execution_count": 5,
   "id": "24c45914",
   "metadata": {
    "execution": {
     "iopub.execute_input": "2023-11-06T05:18:52.263046Z",
     "iopub.status.busy": "2023-11-06T05:18:52.262481Z",
     "iopub.status.idle": "2023-11-06T05:18:52.648004Z",
     "shell.execute_reply": "2023-11-06T05:18:52.646669Z"
    },
    "papermill": {
     "duration": 0.398062,
     "end_time": "2023-11-06T05:18:52.651841",
     "exception": false,
     "start_time": "2023-11-06T05:18:52.253779",
     "status": "completed"
    },
    "tags": []
   },
   "outputs": [
    {
     "data": {
      "text/plain": [
       "<Axes: xlabel='Pclass', ylabel='Survived'>"
      ]
     },
     "execution_count": 5,
     "metadata": {},
     "output_type": "execute_result"
    },
    {
     "data": {
      "image/png": "[encoded data removed]",
      "text/plain": [
       "<Figure size 640x480 with 1 Axes>"
      ]
     },
     "metadata": {},
     "output_type": "display_data"
    }
   ],
   "source": [
    "# Pclass feature\n",
    "# Draw a bar plot of survival by Pclass\n",
    "sns.barplot(x=\"Pclass\", y=\"Survived\", data = data_set)"
   ]
  },
  {
   "cell_type": "code",
   "execution_count": 6,
   "id": "5128787b",
   "metadata": {
    "execution": {
     "iopub.execute_input": "2023-11-06T05:18:52.670067Z",
     "iopub.status.busy": "2023-11-06T05:18:52.669641Z",
     "iopub.status.idle": "2023-11-06T05:18:53.167950Z",
     "shell.execute_reply": "2023-11-06T05:18:53.166384Z"
    },
    "papermill": {
     "duration": 0.511189,
     "end_time": "2023-11-06T05:18:53.170949",
     "exception": false,
     "start_time": "2023-11-06T05:18:52.659760",
     "status": "completed"
    },
    "tags": []
   },
   "outputs": [
    {
     "data": {
      "text/plain": [
       "<Axes: xlabel='Parch', ylabel='Survived'>"
      ]
     },
     "execution_count": 6,
     "metadata": {},
     "output_type": "execute_result"
    },
    {
     "data": {
      "image/png": "[encoded data removed]",
      "text/plain": [
       "<Figure size 640x480 with 1 Axes>"
      ]
     },
     "metadata": {},
     "output_type": "display_data"
    }
   ],
   "source": [
    "# Parch feature\n",
    "# Draw a bar plot for Parch vs. survival\n",
    "sns.barplot(x=\"Parch\", y=\"Survived\", data = data_set)"
   ]
  },
  {
   "cell_type": "code",
   "execution_count": 7,
   "id": "4b6abe31",
   "metadata": {
    "execution": {
     "iopub.execute_input": "2023-11-06T05:18:53.189869Z",
     "iopub.status.busy": "2023-11-06T05:18:53.189452Z",
     "iopub.status.idle": "2023-11-06T05:18:53.200095Z",
     "shell.execute_reply": "2023-11-06T05:18:53.198715Z"
    },
    "papermill": {
     "duration": 0.023416,
     "end_time": "2023-11-06T05:18:53.202906",
     "exception": false,
     "start_time": "2023-11-06T05:18:53.179490",
     "status": "completed"
    },
    "tags": []
   },
   "outputs": [],
   "source": [
    "# Data cleaning \n",
    "\n",
    "# Dropping features because there are not a lot more useful information can be \n",
    "# extracted from it.\n",
    "\n",
    "data_set = data_set.drop(['Name'], axis=1)\n",
    "data_set = data_set.drop(['Ticket'], axis=1)\n",
    "data_set = data_set.drop(['Cabin'], axis=1)"
   ]
  },
  {
   "cell_type": "code",
   "execution_count": 8,
   "id": "f2d05588",
   "metadata": {
    "execution": {
     "iopub.execute_input": "2023-11-06T05:18:53.221201Z",
     "iopub.status.busy": "2023-11-06T05:18:53.220480Z",
     "iopub.status.idle": "2023-11-06T05:18:53.230023Z",
     "shell.execute_reply": "2023-11-06T05:18:53.228751Z"
    },
    "papermill": {
     "duration": 0.021708,
     "end_time": "2023-11-06T05:18:53.232650",
     "exception": false,
     "start_time": "2023-11-06T05:18:53.210942",
     "status": "completed"
    },
    "tags": []
   },
   "outputs": [],
   "source": [
    "# Embarked feature\n",
    "# Replacing the missing values in the Embarked feature with S, \n",
    "# because S have the most survival rate\n",
    "data_set = data_set.fillna({\"Embarked\": \"S\"})\n",
    "embarked_mapping = {\"S\": 1, \"C\": 2, \"Q\": 3}# Map Embarked value to a numeric value\n",
    "data_set['Embarked'] = data_set['Embarked'].map(embarked_mapping)"
   ]
  },
  {
   "cell_type": "code",
   "execution_count": 9,
   "id": "ce675532",
   "metadata": {
    "execution": {
     "iopub.execute_input": "2023-11-06T05:18:53.250544Z",
     "iopub.status.busy": "2023-11-06T05:18:53.250151Z",
     "iopub.status.idle": "2023-11-06T05:18:53.258122Z",
     "shell.execute_reply": "2023-11-06T05:18:53.256850Z"
    },
    "papermill": {
     "duration": 0.02091,
     "end_time": "2023-11-06T05:18:53.261366",
     "exception": false,
     "start_time": "2023-11-06T05:18:53.240456",
     "status": "completed"
    },
    "tags": []
   },
   "outputs": [],
   "source": [
    "# Sex feature\n",
    "data_set.replace({'Sex':{'female':1,'male':0}},inplace=True)"
   ]
  },
  {
   "cell_type": "code",
   "execution_count": 10,
   "id": "fe7a6e2f",
   "metadata": {
    "execution": {
     "iopub.execute_input": "2023-11-06T05:18:53.279702Z",
     "iopub.status.busy": "2023-11-06T05:18:53.279249Z",
     "iopub.status.idle": "2023-11-06T05:18:53.303202Z",
     "shell.execute_reply": "2023-11-06T05:18:53.301631Z"
    },
    "papermill": {
     "duration": 0.037028,
     "end_time": "2023-11-06T05:18:53.306571",
     "exception": false,
     "start_time": "2023-11-06T05:18:53.269543",
     "status": "completed"
    },
    "tags": []
   },
   "outputs": [],
   "source": [
    "# Fare feture\n",
    "# Fill in missing Fare value in test set based on mean fare for that Pclass \n",
    "for x in range(len(data_set[\"Fare\"])):\n",
    "    if pd.isnull(data_set[\"Fare\"][x]):\n",
    "        pclass = data_set[\"Pclass\"][x] # Pclass = 3\n",
    "        data_set[\"Fare\"][x] = round(data_set[data_set[\"Pclass\"] == pclass][\"Fare\"].mean(), 4)\n",
    "\n",
    "data_set['FareBand'] = pd.qcut(data_set['Fare'], 4, labels = [1, 2, 3, 4]) \n",
    "# Map Fare values into groups of numerical values\n",
    "\n",
    "data_set = data_set.drop(['Fare'], axis = 1) # Drop Fare values"
   ]
  },
  {
   "cell_type": "code",
   "execution_count": 11,
   "id": "46a8eeda",
   "metadata": {
    "execution": {
     "iopub.execute_input": "2023-11-06T05:18:53.324549Z",
     "iopub.status.busy": "2023-11-06T05:18:53.324149Z",
     "iopub.status.idle": "2023-11-06T05:18:53.330679Z",
     "shell.execute_reply": "2023-11-06T05:18:53.329484Z"
    },
    "papermill": {
     "duration": 0.019207,
     "end_time": "2023-11-06T05:18:53.333740",
     "exception": false,
     "start_time": "2023-11-06T05:18:53.314533",
     "status": "completed"
    },
    "tags": []
   },
   "outputs": [],
   "source": [
    "# Age feature\n",
    "data_set['Age'] = data_set['Age'].fillna(29) # 29 is average of average ages of males and females"
   ]
  },
  {
   "cell_type": "code",
   "execution_count": 12,
   "id": "b7522d97",
   "metadata": {
    "execution": {
     "iopub.execute_input": "2023-11-06T05:18:53.352895Z",
     "iopub.status.busy": "2023-11-06T05:18:53.352426Z",
     "iopub.status.idle": "2023-11-06T05:18:53.370519Z",
     "shell.execute_reply": "2023-11-06T05:18:53.369085Z"
    },
    "papermill": {
     "duration": 0.03215,
     "end_time": "2023-11-06T05:18:53.373944",
     "exception": false,
     "start_time": "2023-11-06T05:18:53.341794",
     "status": "completed"
    },
    "tags": []
   },
   "outputs": [],
   "source": [
    "# Specifying Train features Target feature\n",
    "features = data_set.drop('Survived',axis=1)\n",
    "target = data_set['Survived']\n",
    "\n",
    "scaler =  StandardScaler()\n",
    "scaler.fit(features)\n",
    "\n",
    "chngd_data = scaler.transform(features)\n",
    "\n",
    "features = chngd_data\n",
    "target = data_set['Survived']\n",
    "\n",
    "# Spliting data into training and testing data\n",
    "X_train,X_test,Y_train,Y_test = train_test_split(features, target, test_size = 0.75, random_state = 0)"
   ]
  },
  {
   "cell_type": "code",
   "execution_count": 13,
   "id": "76c33e43",
   "metadata": {
    "execution": {
     "iopub.execute_input": "2023-11-06T05:18:53.392193Z",
     "iopub.status.busy": "2023-11-06T05:18:53.391766Z",
     "iopub.status.idle": "2023-11-06T05:18:53.461990Z",
     "shell.execute_reply": "2023-11-06T05:18:53.460643Z"
    },
    "papermill": {
     "duration": 0.083256,
     "end_time": "2023-11-06T05:18:53.465196",
     "exception": false,
     "start_time": "2023-11-06T05:18:53.381940",
     "status": "completed"
    },
    "tags": []
   },
   "outputs": [],
   "source": [
    "# Making instance of linear regression\n",
    "object1 = LogisiticRegression()\n",
    "\n",
    "# Fit function to train model\n",
    "object1.fit(X_train,Y_train)\n",
    "\n",
    "# Making actual prediction\n",
    "prediction = object1.predict(X_test)"
   ]
  },
  {
   "cell_type": "code",
   "execution_count": 14,
   "id": "00ce9430",
   "metadata": {
    "execution": {
     "iopub.execute_input": "2023-11-06T05:18:53.483479Z",
     "iopub.status.busy": "2023-11-06T05:18:53.483000Z",
     "iopub.status.idle": "2023-11-06T05:18:53.492603Z",
     "shell.execute_reply": "2023-11-06T05:18:53.491114Z"
    },
    "papermill": {
     "duration": 0.022721,
     "end_time": "2023-11-06T05:18:53.496016",
     "exception": false,
     "start_time": "2023-11-06T05:18:53.473295",
     "status": "completed"
    },
    "tags": []
   },
   "outputs": [
    {
     "name": "stdout",
     "output_type": "stream",
     "text": [
      "Accuracy :  76.68\n"
     ]
    }
   ],
   "source": [
    "# Finding model accuracy\n",
    "accuracy = round(accuracy_score(Y_test,prediction) * 100, 2)\n",
    "print(\"Accuracy : \", accuracy)"
   ]
  }
 ],
 "metadata": {
  "kernelspec": {
   "display_name": "Python 3",
   "language": "python",
   "name": "python3"
  },
  "language_info": {
   "codemirror_mode": {
    "name": "ipython",
    "version": 3
   },
   "file_extension": ".py",
   "mimetype": "text/x-python",
   "name": "python",
   "nbconvert_exporter": "python",
   "pygments_lexer": "ipython3",
   "version": "3.10.12"
  },
  "papermill": {
   "default_parameters": {},
   "duration": 8.928419,
   "end_time": "2023-11-06T05:18:54.228102",
   "environment_variables": {},
   "exception": null,
   "input_path": "__notebook__.ipynb",
   "output_path": "__notebook__.ipynb",
   "parameters": {},
   "start_time": "2023-11-06T05:18:45.299683",
   "version": "2.4.0"
  }
 },
 "nbformat": 4,
 "nbformat_minor": 5
}
